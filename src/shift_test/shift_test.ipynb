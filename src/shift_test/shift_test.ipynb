{
 "cells": [
  {
   "cell_type": "code",
   "execution_count": 1,
   "metadata": {},
   "outputs": [],
   "source": [
    "import numpy as np\n",
    "from numba import jit\n",
    "import time"
   ]
  },
  {
   "cell_type": "markdown",
   "metadata": {},
   "source": [
    "# Step 1"
   ]
  },
  {
   "cell_type": "code",
   "execution_count": 2,
   "metadata": {},
   "outputs": [],
   "source": [
    "@jit(nopython=True)\n",
    "def cleanup(result, n):\n",
    "        if len(result) == 0:\n",
    "            return [[0, 0]] # Numba bs for empty lists\n",
    "\n",
    "        if len(result) == 1 and result[0][1] - result[0, 0] == n:\n",
    "            return [[0, 0]] # If the entire row is zeros, skip it (or we get into trouble later)\n",
    "\n",
    "        to_return = [[entry[0], entry[1] - entry[0]] for entry in result]\n",
    "\n",
    "        if len(to_return) > 1:\n",
    "            if (to_return[0][0] == 0) and (to_return[-1][0] + to_return[-1][1] == n):\n",
    "                to_return[-1][1] += to_return[0][1]\n",
    "                to_return.pop(0)\n",
    "        return to_return\n",
    "\n",
    "@jit(nopython=True)\n",
    "def count(a):\n",
    "    assert a.shape[0] == a.shape[1]\n",
    "    n = a.shape[0]\n",
    "\n",
    "    row_results = []\n",
    "    col_results = []\n",
    "\n",
    "    padded = np.zeros((n+2, n+2))\n",
    "    padded[1:-1, 1:-1] = np.logical_not(a)\n",
    "\n",
    "    row_switch = np.abs(padded[1:-1, 1:] - padded[1:-1, :-1])\n",
    "    col_switch = np.abs(padded[1:, 1:-1] - padded[:-1, 1:-1])\n",
    "\n",
    "    for i in range(n):\n",
    "        row_results.append(np.where(row_switch[i] == 1)[0].reshape(-1, 2))\n",
    "        col_results.append(np.where(col_switch[:, i] == 1)[0].reshape(-1, 2))\n",
    "\n",
    "    row_results_cleanup = [] # More Numba bs because it can't overwrite entries\n",
    "    col_results_cleanup = []\n",
    "\n",
    "    for i in range(n):\n",
    "        row_results_cleanup.append(cleanup(row_results[i], n))\n",
    "        col_results_cleanup.append(cleanup(col_results[i], n))\n",
    "    \n",
    "    return row_results_cleanup, col_results_cleanup\n",
    "\n",
    "\n",
    "def find_largest_number_of_zeros(count_results):\n",
    "    largest = []\n",
    "    maximum = 0\n",
    "    for row_col in count_results:\n",
    "        row_col = np.array(row_col)\n",
    "        largest.append(row_col[row_col[:, 1] == np.max(row_col[:, 1])])\n",
    "        maximum = largest[-1][0, 1] if largest[-1][0, 1] > maximum else maximum\n",
    "\n",
    "    to_return = []\n",
    "\n",
    "    for row_col_index in range(len(largest)):\n",
    "        if largest[row_col_index][0, 1] == maximum:\n",
    "            to_return.append((row_col_index, largest[row_col_index][:, 0]))\n",
    "\n",
    "    return to_return"
   ]
  },
  {
   "cell_type": "markdown",
   "metadata": {},
   "source": [
    "# Step 2"
   ]
  },
  {
   "cell_type": "code",
   "execution_count": 3,
   "metadata": {},
   "outputs": [],
   "source": [
    "def array_to_number(array):\n",
    "    return np.dot(array[::-1], 2**np.arange(len(array)))\n",
    "\n",
    "def take_lowest_largest_number_of_zeros(a, largest_number_of_zeros, row_col=\"row\"):\n",
    "    n = a.shape[0]\n",
    "    lowest = 2**n-1\n",
    "    results = []\n",
    "\n",
    "    for candidate_tuple in largest_number_of_zeros:\n",
    "        row_col_index, candidate = candidate_tuple\n",
    "        array = a[row_col_index] if row_col == \"row\" else a[:, row_col_index]\n",
    "        for entry in candidate:\n",
    "            number = array_to_number(np.roll(array, -entry))\n",
    "            if number < lowest:\n",
    "                lowest = number\n",
    "                results = [(row_col_index, entry)]\n",
    "            elif number == lowest:\n",
    "                results.append((row_col_index, entry))\n",
    "\n",
    "    return results"
   ]
  },
  {
   "cell_type": "markdown",
   "metadata": {},
   "source": [
    "# Steps 3 and 4"
   ]
  },
  {
   "cell_type": "code",
   "execution_count": 4,
   "metadata": {},
   "outputs": [],
   "source": [
    "def test_neighbours(a, lowest_largest_number_results, row_col=\"row\"):\n",
    "    n = a.shape[0]\n",
    "    rolled_as = [np.roll(a, -entry[1], axis= 1 if row_col == \"row\" else 0) for entry in lowest_largest_number_results]\n",
    "    for i in range(n-1):\n",
    "        lowest = 2**n-1\n",
    "        results = []\n",
    "        for j, a in enumerate(rolled_as):\n",
    "            row_col_index = lowest_largest_number_results[j][0]\n",
    "            array = a[row_col_index-i] if row_col == \"row\" else a[:, row_col_index-i]\n",
    "            number = array_to_number(array)\n",
    "            if number < lowest:\n",
    "                lowest = number\n",
    "                results = [j]\n",
    "            elif number == lowest:\n",
    "                results.append(j)\n",
    "        if len(results) == 1:\n",
    "            return [lowest_largest_number_results[results[0]]]\n",
    "    return lowest_largest_number_results"
   ]
  },
  {
   "cell_type": "markdown",
   "metadata": {},
   "source": [
    "# Step 5"
   ]
  },
  {
   "cell_type": "code",
   "execution_count": 31,
   "metadata": {},
   "outputs": [],
   "source": [
    "def bruteforce(a):\n",
    "    n = a.shape[0]\n",
    "    smallest_matrix = a.copy()\n",
    "    smallest_matrix_string = \"\".join(map(str, a.flatten()))\n",
    "    for i in range(n):\n",
    "        for j in range(n): \n",
    "            a = np.roll(a, 1, axis=1)\n",
    "            a_string = \"\".join(map(str, a.flatten()))\n",
    "            if a_string < smallest_matrix_string:\n",
    "                smallest_matrix = a.copy()\n",
    "                smallest_matrix_string = a_string\n",
    "        a = np.roll(a, 1, axis=0)\n",
    "    return smallest_matrix"
   ]
  },
  {
   "cell_type": "markdown",
   "metadata": {},
   "source": [
    "# Combined"
   ]
  },
  {
   "cell_type": "code",
   "execution_count": 33,
   "metadata": {},
   "outputs": [],
   "source": [
    "def preprocess(a):\n",
    "    row_shift = 0\n",
    "    col_shift = 0\n",
    "\n",
    "    row, col = count(a)\n",
    "    largest_number_of_zeros_row = find_largest_number_of_zeros(row)\n",
    "    lowest_largest_number_results_row = take_lowest_largest_number_of_zeros(a, largest_number_of_zeros_row, \"row\")\n",
    "    if len(lowest_largest_number_results_row) > 1:\n",
    "        neighbour_results_row = test_neighbours(a, lowest_largest_number_results_row, \"row\")\n",
    "        if len(neighbour_results_row) > 1:\n",
    "            return bruteforce(a)\n",
    "        else:\n",
    "            row_shift = -neighbour_results_row[0][1]\n",
    "    else:\n",
    "        row_shift = -lowest_largest_number_results_row[0][1]\n",
    "\n",
    "    largest_number_of_zeros_col = find_largest_number_of_zeros(col)\n",
    "    lowest_largest_number_results_col = take_lowest_largest_number_of_zeros(a, largest_number_of_zeros_col, \"col\")\n",
    "    if len(lowest_largest_number_results_col) > 1:\n",
    "        neighbour_results_col = test_neighbours(a, lowest_largest_number_results_col, \"col\")\n",
    "        if len(neighbour_results_col) > 1:\n",
    "            return bruteforce(a)\n",
    "        else:\n",
    "            col_shift = -neighbour_results_col[0][1]\n",
    "    else:\n",
    "        col_shift = -lowest_largest_number_results_col[0][1]\n",
    "\n",
    "    return np.roll(np.roll(a, col_shift, axis=0), row_shift, axis=1)\n"
   ]
  },
  {
   "cell_type": "markdown",
   "metadata": {},
   "source": [
    "# Testing"
   ]
  },
  {
   "cell_type": "code",
   "execution_count": 34,
   "metadata": {},
   "outputs": [
    {
     "name": "stdout",
     "output_type": "stream",
     "text": [
      "Progress: 32.70%\r"
     ]
    },
    {
     "ename": "KeyboardInterrupt",
     "evalue": "",
     "output_type": "error",
     "traceback": [
      "\u001b[0;31m---------------------------------------------------------------------------\u001b[0m",
      "\u001b[0;31mKeyboardInterrupt\u001b[0m                         Traceback (most recent call last)",
      "\u001b[1;32m/home/max/uni/LabStatisticalMechanics/shift_test/shift_test.ipynb Cell 13\u001b[0m line \u001b[0;36m1\n\u001b[1;32m     <a href='vscode-notebook-cell:/home/max/uni/LabStatisticalMechanics/shift_test/shift_test.ipynb#X14sZmlsZQ%3D%3D?line=10'>11</a>\u001b[0m \u001b[39mfor\u001b[39;00m p \u001b[39min\u001b[39;00m \u001b[39mrange\u001b[39m(\u001b[39m1000\u001b[39m):\n\u001b[1;32m     <a href='vscode-notebook-cell:/home/max/uni/LabStatisticalMechanics/shift_test/shift_test.ipynb#X14sZmlsZQ%3D%3D?line=11'>12</a>\u001b[0m     b \u001b[39m=\u001b[39m random_row_col(a)\n\u001b[0;32m---> <a href='vscode-notebook-cell:/home/max/uni/LabStatisticalMechanics/shift_test/shift_test.ipynb#X14sZmlsZQ%3D%3D?line=12'>13</a>\u001b[0m     \u001b[39massert\u001b[39;00m np\u001b[39m.\u001b[39mall(min_a \u001b[39m==\u001b[39m preprocess(b)), \u001b[39m\"\u001b[39m\u001b[39m\\n\u001b[39;00m\u001b[39m\"\u001b[39m \u001b[39m+\u001b[39m \u001b[39mstr\u001b[39m(min_a) \u001b[39m+\u001b[39m\u001b[39m\"\u001b[39m\u001b[39m\\n\u001b[39;00m\u001b[39m\"\u001b[39m \u001b[39m+\u001b[39m \u001b[39mstr\u001b[39m(b) \u001b[39m+\u001b[39m \u001b[39m\"\u001b[39m\u001b[39m\\n\u001b[39;00m\u001b[39m\"\u001b[39m \u001b[39m+\u001b[39m \u001b[39mstr\u001b[39m(preprocess(b))\n\u001b[1;32m     <a href='vscode-notebook-cell:/home/max/uni/LabStatisticalMechanics/shift_test/shift_test.ipynb#X14sZmlsZQ%3D%3D?line=13'>14</a>\u001b[0m     done \u001b[39m+\u001b[39m\u001b[39m=\u001b[39m \u001b[39m1\u001b[39m\n\u001b[1;32m     <a href='vscode-notebook-cell:/home/max/uni/LabStatisticalMechanics/shift_test/shift_test.ipynb#X14sZmlsZQ%3D%3D?line=14'>15</a>\u001b[0m \u001b[39mprint\u001b[39m(\u001b[39mf\u001b[39m\u001b[39m\"\u001b[39m\u001b[39mProgress: \u001b[39m\u001b[39m{\u001b[39;00mdone\u001b[39m/\u001b[39m\u001b[39m1000\u001b[39m\u001b[39m*\u001b[39m\u001b[39m*\u001b[39m\u001b[39m2\u001b[39m\u001b[39m*\u001b[39m\u001b[39m100\u001b[39m\u001b[39m:\u001b[39;00m\u001b[39m0.2f\u001b[39m\u001b[39m}\u001b[39;00m\u001b[39m%\u001b[39m\u001b[39m\\r\u001b[39;00m\u001b[39m\"\u001b[39m, end\u001b[39m=\u001b[39m\u001b[39m\"\u001b[39m\u001b[39m\"\u001b[39m)\n",
      "\u001b[1;32m/home/max/uni/LabStatisticalMechanics/shift_test/shift_test.ipynb Cell 13\u001b[0m line \u001b[0;36m7\n\u001b[1;32m      <a href='vscode-notebook-cell:/home/max/uni/LabStatisticalMechanics/shift_test/shift_test.ipynb#X14sZmlsZQ%3D%3D?line=4'>5</a>\u001b[0m row, col \u001b[39m=\u001b[39m count(a)\n\u001b[1;32m      <a href='vscode-notebook-cell:/home/max/uni/LabStatisticalMechanics/shift_test/shift_test.ipynb#X14sZmlsZQ%3D%3D?line=5'>6</a>\u001b[0m largest_number_of_zeros_row \u001b[39m=\u001b[39m find_largest_number_of_zeros(row)\n\u001b[0;32m----> <a href='vscode-notebook-cell:/home/max/uni/LabStatisticalMechanics/shift_test/shift_test.ipynb#X14sZmlsZQ%3D%3D?line=6'>7</a>\u001b[0m lowest_largest_number_results_row \u001b[39m=\u001b[39m take_lowest_largest_number_of_zeros(a, largest_number_of_zeros_row, \u001b[39m\"\u001b[39;49m\u001b[39mrow\u001b[39;49m\u001b[39m\"\u001b[39;49m)\n\u001b[1;32m      <a href='vscode-notebook-cell:/home/max/uni/LabStatisticalMechanics/shift_test/shift_test.ipynb#X14sZmlsZQ%3D%3D?line=7'>8</a>\u001b[0m \u001b[39mif\u001b[39;00m \u001b[39mlen\u001b[39m(lowest_largest_number_results_row) \u001b[39m>\u001b[39m \u001b[39m1\u001b[39m:\n\u001b[1;32m      <a href='vscode-notebook-cell:/home/max/uni/LabStatisticalMechanics/shift_test/shift_test.ipynb#X14sZmlsZQ%3D%3D?line=8'>9</a>\u001b[0m     neighbour_results_row \u001b[39m=\u001b[39m test_neighbours(a, lowest_largest_number_results_row, \u001b[39m\"\u001b[39m\u001b[39mrow\u001b[39m\u001b[39m\"\u001b[39m)\n",
      "\u001b[1;32m/home/max/uni/LabStatisticalMechanics/shift_test/shift_test.ipynb Cell 13\u001b[0m line \u001b[0;36m1\n\u001b[1;32m     <a href='vscode-notebook-cell:/home/max/uni/LabStatisticalMechanics/shift_test/shift_test.ipynb#X14sZmlsZQ%3D%3D?line=10'>11</a>\u001b[0m array \u001b[39m=\u001b[39m a[row_col_index] \u001b[39mif\u001b[39;00m row_col \u001b[39m==\u001b[39m \u001b[39m\"\u001b[39m\u001b[39mrow\u001b[39m\u001b[39m\"\u001b[39m \u001b[39melse\u001b[39;00m a[:, row_col_index]\n\u001b[1;32m     <a href='vscode-notebook-cell:/home/max/uni/LabStatisticalMechanics/shift_test/shift_test.ipynb#X14sZmlsZQ%3D%3D?line=11'>12</a>\u001b[0m \u001b[39mfor\u001b[39;00m entry \u001b[39min\u001b[39;00m candidate:\n\u001b[0;32m---> <a href='vscode-notebook-cell:/home/max/uni/LabStatisticalMechanics/shift_test/shift_test.ipynb#X14sZmlsZQ%3D%3D?line=12'>13</a>\u001b[0m     number \u001b[39m=\u001b[39m array_to_number(np\u001b[39m.\u001b[39;49mroll(array, \u001b[39m-\u001b[39;49mentry))\n\u001b[1;32m     <a href='vscode-notebook-cell:/home/max/uni/LabStatisticalMechanics/shift_test/shift_test.ipynb#X14sZmlsZQ%3D%3D?line=13'>14</a>\u001b[0m     \u001b[39mif\u001b[39;00m number \u001b[39m<\u001b[39m lowest:\n\u001b[1;32m     <a href='vscode-notebook-cell:/home/max/uni/LabStatisticalMechanics/shift_test/shift_test.ipynb#X14sZmlsZQ%3D%3D?line=14'>15</a>\u001b[0m         lowest \u001b[39m=\u001b[39m number\n",
      "\u001b[1;32m/home/max/uni/LabStatisticalMechanics/shift_test/shift_test.ipynb Cell 13\u001b[0m line \u001b[0;36m2\n\u001b[1;32m      <a href='vscode-notebook-cell:/home/max/uni/LabStatisticalMechanics/shift_test/shift_test.ipynb#X14sZmlsZQ%3D%3D?line=0'>1</a>\u001b[0m \u001b[39mdef\u001b[39;00m \u001b[39marray_to_number\u001b[39m(array):\n\u001b[0;32m----> <a href='vscode-notebook-cell:/home/max/uni/LabStatisticalMechanics/shift_test/shift_test.ipynb#X14sZmlsZQ%3D%3D?line=1'>2</a>\u001b[0m     \u001b[39mreturn\u001b[39;00m np\u001b[39m.\u001b[39;49mdot(array[::\u001b[39m-\u001b[39;49m\u001b[39m1\u001b[39;49m], \u001b[39m2\u001b[39;49m\u001b[39m*\u001b[39;49m\u001b[39m*\u001b[39;49mnp\u001b[39m.\u001b[39;49marange(\u001b[39mlen\u001b[39;49m(array)))\n",
      "File \u001b[0;32m~/.local/lib/python3.11/site-packages/numpy/core/multiarray.py:741\u001b[0m, in \u001b[0;36mdot\u001b[0;34m(a, b, out)\u001b[0m\n\u001b[1;32m    671\u001b[0m \u001b[39m    \u001b[39m\u001b[39m\"\"\"\u001b[39;00m\n\u001b[1;32m    672\u001b[0m \u001b[39m    result_type(*arrays_and_dtypes)\u001b[39;00m\n\u001b[1;32m    673\u001b[0m \n\u001b[0;32m   (...)\u001b[0m\n\u001b[1;32m    736\u001b[0m \n\u001b[1;32m    737\u001b[0m \u001b[39m    \"\"\"\u001b[39;00m\n\u001b[1;32m    738\u001b[0m     \u001b[39mreturn\u001b[39;00m arrays_and_dtypes\n\u001b[0;32m--> 741\u001b[0m \u001b[39m@array_function_from_c_func_and_dispatcher\u001b[39m(_multiarray_umath\u001b[39m.\u001b[39mdot)\n\u001b[1;32m    742\u001b[0m \u001b[39mdef\u001b[39;00m \u001b[39mdot\u001b[39m(a, b, out\u001b[39m=\u001b[39m\u001b[39mNone\u001b[39;00m):\n\u001b[1;32m    743\u001b[0m \u001b[39m    \u001b[39m\u001b[39m\"\"\"\u001b[39;00m\n\u001b[1;32m    744\u001b[0m \u001b[39m    dot(a, b, out=None)\u001b[39;00m\n\u001b[1;32m    745\u001b[0m \n\u001b[0;32m   (...)\u001b[0m\n\u001b[1;32m    829\u001b[0m \n\u001b[1;32m    830\u001b[0m \u001b[39m    \"\"\"\u001b[39;00m\n\u001b[1;32m    831\u001b[0m     \u001b[39mreturn\u001b[39;00m (a, b, out)\n",
      "\u001b[0;31mKeyboardInterrupt\u001b[0m: "
     ]
    }
   ],
   "source": [
    "n = 4\n",
    "\n",
    "def random_row_col(a):\n",
    "    shift_row, shift_col = np.random.randint(0, a.shape[0]), np.random.randint(0, a.shape[1])\n",
    "    return np.roll(np.roll(a, shift_row, axis=0), shift_col, axis=1)\n",
    "\n",
    "done = 0\n",
    "for o in range(1000):\n",
    "    a = np.random.choice([0, 1], (n, n))\n",
    "    min_a = preprocess(a)\n",
    "    for p in range(1000):\n",
    "        b = random_row_col(a)\n",
    "        assert np.all(min_a == preprocess(b)), \"\\n\" + str(min_a) +\"\\n\" + str(b) + \"\\n\" + str(preprocess(b))\n",
    "        done += 1\n",
    "    print(f\"Progress: {done/1000**2*100:0.2f}%\\r\", end=\"\")\n"
   ]
  },
  {
   "cell_type": "code",
   "execution_count": 12,
   "metadata": {},
   "outputs": [
    {
     "name": "stdout",
     "output_type": "stream",
     "text": [
      "0.516 ms per run\n",
      "3.899 ms per run\n"
     ]
    }
   ],
   "source": [
    "start = time.time()\n",
    "\n",
    "for _ in range(10000):\n",
    "    a = np.random.choice([0, 1], (10, 10))\n",
    "    preprocess(a)\n",
    "\n",
    "print(f\"{(time.time() - start)*1000/10000:0.3f} ms per run\")\n",
    "\n",
    "start = time.time()\n",
    "\n",
    "for _ in range(10000):\n",
    "    a = np.random.choice([0, 1], (10, 10))\n",
    "    bruteforce(a)\n",
    "\n",
    "print(f\"{(time.time() - start)*1000/10000:0.3f} ms per run\")"
   ]
  },
  {
   "cell_type": "code",
   "execution_count": null,
   "metadata": {},
   "outputs": [],
   "source": []
  }
 ],
 "metadata": {
  "kernelspec": {
   "display_name": "Python 3",
   "language": "python",
   "name": "python3"
  },
  "language_info": {
   "codemirror_mode": {
    "name": "ipython",
    "version": 3
   },
   "file_extension": ".py",
   "mimetype": "text/x-python",
   "name": "python",
   "nbconvert_exporter": "python",
   "pygments_lexer": "ipython3",
   "version": "3.11.8"
  }
 },
 "nbformat": 4,
 "nbformat_minor": 2
}
